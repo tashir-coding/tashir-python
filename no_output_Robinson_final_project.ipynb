{
  "nbformat": 4,
  "nbformat_minor": 0,
  "metadata": {
    "colab": {
      "provenance": [],
      "gpuType": "T4"
    },
    "kernelspec": {
      "name": "python3",
      "display_name": "Python 3"
    },
    "language_info": {
      "name": "python"
    },
    "accelerator": "GPU"
  },
  "cells": [
    {
      "cell_type": "markdown",
      "source": [
        "First: change CPU to GPU under \"runtime\""
      ],
      "metadata": {
        "id": "UFq9Agt5epg_"
      }
    },
    {
      "cell_type": "code",
      "source": [
        "#to clear cache if out of memory\n",
        "#stop runtime, then\n",
        "#import torch\n",
        "#torch.cuda.empty_cache()"
      ],
      "metadata": {
        "id": "DbdeWvviDaUu"
      },
      "execution_count": null,
      "outputs": []
    },
    {
      "cell_type": "code",
      "execution_count": null,
      "metadata": {
        "id": "vd6FzBfkDSz3"
      },
      "outputs": [],
      "source": [
        "%pip install accelerate"
      ]
    },
    {
      "cell_type": "code",
      "source": [
        "from huggingface_hub import snapshot_download\n",
        "model_name = \"microsoft/Phi-3-mini-128k-instruct\"\n",
        "snapshot_download(repo_id=model_name)"
      ],
      "metadata": {
        "id": "dDilUXAYFn3d"
      },
      "execution_count": null,
      "outputs": []
    },
    {
      "cell_type": "code",
      "source": [
        "model_name = \"microsoft/Phi-3-mini-128k-instruct\"\n"
      ],
      "metadata": {
        "id": "k48x5iyMV4_j"
      },
      "execution_count": null,
      "outputs": []
    },
    {
      "cell_type": "code",
      "source": [
        "Question = \"What is 2*2?\" # @param {type:\"string\"}\n",
        "\n",
        "import torch\n",
        "from transformers import AutoModelForCausalLM, AutoTokenizer, pipeline\n",
        "\n",
        "torch.random.manual_seed(0)\n",
        "\n",
        "model = AutoModelForCausalLM.from_pretrained(\n",
        "    model_name,\n",
        "    device_map=\"cuda\",\n",
        "    torch_dtype=\"auto\",\n",
        "    trust_remote_code=True,\n",
        ")\n",
        "tokenizer = AutoTokenizer.from_pretrained(\"microsoft/Phi-3-mini-4k-instruct\")\n",
        "messages = [\n",
        "    {\"role\": \"user\", \"content\": Question},\n",
        "]\n",
        "\n",
        "pipe = pipeline(\n",
        "    \"text-generation\",\n",
        "    model=model,\n",
        "    tokenizer=tokenizer,\n",
        ")\n",
        "\n",
        "generation_args = {\n",
        "    \"max_new_tokens\": 500,\n",
        "    \"return_full_text\": False,\n",
        "    \"temperature\": 0.0,\n",
        "    \"do_sample\": False,\n",
        "}\n",
        "\n",
        "output = pipe(messages, **generation_args)\n",
        "print(output[0]['generated_text'])\n"
      ],
      "metadata": {
        "id": "7eAIQEyPGM1H"
      },
      "execution_count": null,
      "outputs": []
    }
  ]
}